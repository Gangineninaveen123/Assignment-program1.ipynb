{
 "cells": [
  {
   "cell_type": "markdown",
   "id": "46cfc5e0",
   "metadata": {},
   "source": [
    "# Write a Python program to create a lambda function that adds 25 to a given number passed in as an argument.\n",
    "\n",
    "\n",
    "# sample input: 10\n",
    "\n",
    "# sample output: 35"
   ]
  },
  {
   "cell_type": "code",
   "execution_count": 1,
   "id": "0182c88c",
   "metadata": {},
   "outputs": [
    {
     "name": "stdout",
     "output_type": "stream",
     "text": [
      "sample input:  10\n",
      "sample output:  35\n"
     ]
    }
   ],
   "source": [
    "\n",
    "a = 10\n",
    "print('sample input: ',a)\n",
    "\n",
    "\n",
    "function = lambda x : x + 25\n",
    "\n",
    "\n",
    "print('sample output: ',function(10))"
   ]
  },
  {
   "cell_type": "code",
   "execution_count": null,
   "id": "56900999",
   "metadata": {},
   "outputs": [],
   "source": []
  }
 ],
 "metadata": {
  "kernelspec": {
   "display_name": "Python 3",
   "language": "python",
   "name": "python3"
  },
  "language_info": {
   "codemirror_mode": {
    "name": "ipython",
    "version": 3
   },
   "file_extension": ".py",
   "mimetype": "text/x-python",
   "name": "python",
   "nbconvert_exporter": "python",
   "pygments_lexer": "ipython3",
   "version": "3.6.9"
  }
 },
 "nbformat": 4,
 "nbformat_minor": 5
}
